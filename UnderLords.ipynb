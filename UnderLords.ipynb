{
 "cells": [
  {
   "cell_type": "markdown",
   "metadata": {},
   "source": [
    "Будем считать, что всего у нас в есть $n$ героев на выбор. Максимальный размер команды $m$; максимальный размер альянса $q$. Будем считать, что сила некоторого $i$-го героя опредяляется за некоторую неотрицательную величину $s_i$. За $x_i$ будем обозначать принадлежность героя выбранной команде --- $x_i = 1$, если $i$-й герой принадлежит набранной команде и $x_i=0$ в противном случае. Тогда условие того, что в команде не более, чем $n$ героев можно записать в виде $\\sum_{i=0}^n x_i \\leq n$. Тогда в простейшей форме данную задачу можно сформулировать следующим образом:\n",
    "\n",
    "В **Dota Underlords** для активации бонуса иногда можно собрать не весь альянс, а некоторую его часть - треть или половину. Более, того, могут существовать несколько подобных бонусов, например, один бонус за собранную треть альянса и бонус за собранные две трети альянса. Другим подобным случаем является случай, когда в игре присутствует больше героев в некотором альянсе, чем требуется для активации бонуса. \n",
    "\n",
    "Пусть для активации некоторого $k$-го бонуса $j$-го альянса требуется собрать $f_{jk}$ элементов этого альянса. Тогда можно пронумеровать все возможные бонусы от первого до $t_j$-го внутри каждого альянса. Введём индикаторную величину $I_{ijk}$, которая показывает, что для героя i, k-й бонус j-го альянса активирован.  Тогда величина $e_{ijk}$ показывает бонус для i-го элемента, если активирован k-й бонус j-го альянса. Учитывая, что постановка задачи с <<чистыми>> альянсами является частным случаем данной постановки задачи, достаточно записать максимизирующую функцию как $max \\sum_{i=0}^{n-1} x_i s_i + \\sum_{i=0}^{n-1} \\sum_{j=0}^{t-1}  \\sum_{k=0}^{q} e_{ijk} I_{ijk} $.\n",
    "\n",
    "\n",
    "Тогда система уравнений выглядит так: <br>\n",
    "**Целевая функция:** <br>\n",
    "&nbsp;&nbsp;$max \\sum_{i=0}^{n-1} x_i s_i + \\sum_{i=0}^{n-1} \\sum_{j=0}^{t-1}  \\sum_{k=0}^{q} e_{ijk} I_{ijk} $ <br>\n",
    "**Ограничения:** \n",
    "<br>\n",
    "&nbsp;&nbsp;$\\sum_{i=0}^n x_i \\le m $ <br>\n",
    "&nbsp;&nbsp;$ \\forall{j} : \\sum_{i=0}^n a_{ij} \\le q $  – ограничение на данные, а не на модель <br>\n",
    "\n",
    "&nbsp;&nbsp;$ \\forall{i,j,k} :  \\sum_{i'=0}^{n-1} a_{i'j} x_{i'} - k \\ge M(  I_{ijk}  - 1) $, чтобы работал $k$-й бонус $j$-го альянса, надо чтобы в команде\n",
    "было не меньше чем $k$ участиков $j$-го альянса. C помошью данного неравенства мы не даём $I_{jk}$ принимать значение не 0, если $\\sum_{i=0}^{n-1} a_{ij} x_{i} < k$, то есть когда в команде не меньше, чем k героев из альянса $j$ <br>\n",
    "\n",
    "$ \\forall{i,j,k} :  I_{ijk}  \\le x_i $, the aliance bouns can be only activted if the hero $i$ is in the team <br>\n",
    "$ \\forall{i,j,k} :  I_{ijk}  \\le a_{ij} $, the aliance bouns for the hero $i$ and aliance $j$ can be actived only for hero which is in aliance <br>\n",
    "**Константы:** \n",
    "&nbsp;&nbsp;$    n, r, s_i, n, b_{ij}, t_j, e_{ijk}$\n",
    "<br>\n",
    "**Управляющие еременные:** <br>\n",
    "&nbsp;&nbsp;$x_i, I_{ijk} - \\{0, 1\\},$<br> \n",
    "где   $ I_{jk}$ - это индикаторная переменная, которая говорит о том, что включен $k$-й бонус, $j$-го альянса. В свою очередь $f_{jk}$ – константа, обозначающая сколько человек нужно для активации $k$-го бонуса $j$-го альянаса."
   ]
  },
  {
   "cell_type": "markdown",
   "metadata": {},
   "source": [
    "10 $e_{i=1,j = 3, k =3}  = 5$ -  %50 бонус при 3-х участника альянса 3 <br>\n",
    "20 $e_{i=2,j = 3, k =3}  = 41$ - %50 бонус при 3-х участника альянса 3 <br>\n",
    "8  $e_{i=3,j = 3, k =3}  = 4$  %50 бонус при 3-х участника альянса 3 <br>\n",
    "\n"
   ]
  },
  {
   "cell_type": "code",
   "execution_count": null,
   "metadata": {},
   "outputs": [],
   "source": []
  },
  {
   "cell_type": "code",
   "execution_count": null,
   "metadata": {},
   "outputs": [],
   "source": []
  },
  {
   "cell_type": "code",
   "execution_count": null,
   "metadata": {},
   "outputs": [],
   "source": []
  },
  {
   "cell_type": "markdown",
   "metadata": {},
   "source": [
    "# Prepare Syntetic Data #"
   ]
  },
  {
   "cell_type": "code",
   "execution_count": 363,
   "metadata": {},
   "outputs": [],
   "source": [
    "#!cd ~latna/cplex/python; python ./setup.py install"
   ]
  },
  {
   "cell_type": "code",
   "execution_count": 412,
   "metadata": {},
   "outputs": [],
   "source": [
    "#n = 7 #всего героев, в тексте работы это p\n",
    "#m = 3 #размер команды. в тексте работы это m. это же и максимальный размер альянса\n",
    "#q = m #– максимальный размер альянса. пока пусть он равен максимальному размеру команды\n",
    "#t = 2 #количество разных альянсов \n",
    "\n",
    "n = 21 #всего героев, в тексте работы это p\n",
    "m = 10 #размер команды. в тексте работы это m. это же и максимальный размер альянса\n",
    "q = m #– максимальный размер альянса. пока пусть он равен максимальному размеру команды\n",
    "t = 20 #количество разных альянсов "
   ]
  },
  {
   "cell_type": "code",
   "execution_count": 413,
   "metadata": {},
   "outputs": [],
   "source": [
    "import random"
   ]
  },
  {
   "cell_type": "code",
   "execution_count": 414,
   "metadata": {},
   "outputs": [],
   "source": [
    "#generage power of every hero\n",
    "# s = [abs(random.gauss(40, 15)) for i in range(n)] \n",
    "s = [1 for i in range(n)] "
   ]
  },
  {
   "cell_type": "code",
   "execution_count": 415,
   "metadata": {},
   "outputs": [],
   "source": [
    " range(q+1)#generate aliance matrix\n",
    "#if hero i belongs to aliance j, a[i][j] = 1 \n",
    "a =  { (i,j): 1 if random.random() < 0.5 else 0 for j in range(t) for i in range(n)  } "
   ]
  },
  {
   "cell_type": "code",
   "execution_count": 272,
   "metadata": {},
   "outputs": [
    {
     "data": {
      "text/plain": [
       "[0, 1, 2, 3, 4, 5, 6, 7]"
      ]
     },
     "execution_count": 272,
     "metadata": {},
     "output_type": "execute_result"
    }
   ],
   "source": [
    "list(range(q+1) )"
   ]
  },
  {
   "cell_type": "code",
   "execution_count": 416,
   "metadata": {},
   "outputs": [],
   "source": [
    "#bonus from aliance \n",
    "# e =  [[ [int (abs(random.gauss(20, 7)) ) for k in range(m) ]   for j in range(t)   ] for i in range(n)  ]\n",
    "e =  [[ [k for k in range(q+1) ]   for j in range(t)   ] for i in range(n)  ]\n",
    "# e =  [[ [int (random.gauss(100, 50)) for  i in range(n)]   for j in range(t)   ] for  k in range(m)  ]\n",
    "for i in range(n):\n",
    "    for j in range(t):\n",
    "        if (a[i,j] == 0):\n",
    "            for k in range(q + 1):\n",
    "                e[i][j][k] = 0"
   ]
  },
  {
   "cell_type": "code",
   "execution_count": 418,
   "metadata": {},
   "outputs": [],
   "source": [
    "df = pd.DataFrame()\n",
    "df[\"hero\"] = [\"hero_{}\".format(i) for i in range(n) ]\n",
    "df[\"power\"] = s\n",
    "for j in range(t): \n",
    "    df[\"aliance_{}\".format(j)] = [a[i,j] for i in range(n)]"
   ]
  },
  {
   "cell_type": "code",
   "execution_count": 139,
   "metadata": {},
   "outputs": [
    {
     "data": {
      "text/html": [
       "<div>\n",
       "<style scoped>\n",
       "    .dataframe tbody tr th:only-of-type {\n",
       "        vertical-align: middle;\n",
       "    }\n",
       "\n",
       "    .dataframe tbody tr th {\n",
       "        vertical-align: top;\n",
       "    }\n",
       "\n",
       "    .dataframe thead th {\n",
       "        text-align: right;\n",
       "    }\n",
       "</style>\n",
       "<table border=\"1\" class=\"dataframe\">\n",
       "  <thead>\n",
       "    <tr style=\"text-align: right;\">\n",
       "      <th></th>\n",
       "      <th>hero</th>\n",
       "      <th>power</th>\n",
       "    </tr>\n",
       "  </thead>\n",
       "  <tbody>\n",
       "    <tr>\n",
       "      <td>0</td>\n",
       "      <td>tusk</td>\n",
       "      <td>1</td>\n",
       "    </tr>\n",
       "    <tr>\n",
       "      <td>1</td>\n",
       "      <td>venomancer</td>\n",
       "      <td>1</td>\n",
       "    </tr>\n",
       "    <tr>\n",
       "      <td>2</td>\n",
       "      <td>shadow demon</td>\n",
       "      <td>1</td>\n",
       "    </tr>\n",
       "    <tr>\n",
       "      <td>3</td>\n",
       "      <td>drow ranger</td>\n",
       "      <td>1</td>\n",
       "    </tr>\n",
       "    <tr>\n",
       "      <td>4</td>\n",
       "      <td>bloodseeker</td>\n",
       "      <td>1</td>\n",
       "    </tr>\n",
       "    <tr>\n",
       "      <td>...</td>\n",
       "      <td>...</td>\n",
       "      <td>...</td>\n",
       "    </tr>\n",
       "    <tr>\n",
       "      <td>58</td>\n",
       "      <td>sand king</td>\n",
       "      <td>5</td>\n",
       "    </tr>\n",
       "    <tr>\n",
       "      <td>59</td>\n",
       "      <td>lich</td>\n",
       "      <td>5</td>\n",
       "    </tr>\n",
       "    <tr>\n",
       "      <td>60</td>\n",
       "      <td>medusa</td>\n",
       "      <td>5</td>\n",
       "    </tr>\n",
       "    <tr>\n",
       "      <td>61</td>\n",
       "      <td>dragon knight</td>\n",
       "      <td>5</td>\n",
       "    </tr>\n",
       "    <tr>\n",
       "      <td>62</td>\n",
       "      <td>troll warlord</td>\n",
       "      <td>5</td>\n",
       "    </tr>\n",
       "  </tbody>\n",
       "</table>\n",
       "<p>63 rows × 2 columns</p>\n",
       "</div>"
      ],
      "text/plain": [
       "             hero  power\n",
       "0            tusk      1\n",
       "1      venomancer      1\n",
       "2    shadow demon      1\n",
       "3     drow ranger      1\n",
       "4     bloodseeker      1\n",
       "..            ...    ...\n",
       "58      sand king      5\n",
       "59           lich      5\n",
       "60         medusa      5\n",
       "61  dragon knight      5\n",
       "62  troll warlord      5\n",
       "\n",
       "[63 rows x 2 columns]"
      ]
     },
     "execution_count": 139,
     "metadata": {},
     "output_type": "execute_result"
    }
   ],
   "source": []
  },
  {
   "cell_type": "markdown",
   "metadata": {},
   "source": [
    "# Load data from table #"
   ]
  },
  {
   "cell_type": "code",
   "execution_count": 413,
   "metadata": {},
   "outputs": [],
   "source": [
    "import pandas as pd\n",
    "df = pd.DataFrame()"
   ]
  },
  {
   "cell_type": "code",
   "execution_count": 414,
   "metadata": {},
   "outputs": [],
   "source": [
    "fname = \"UnderLordsData_2.xlsx\"\n",
    "#load from local file\n",
    "dd = pd.read_excel(fname, header=None) \n",
    "\n",
    "# url = \"https://drive.google.com/file/d/11du-iB1TG9senVVM5KJ8xjPDe7fss6bv/view\"\n",
    "# dd = pd.read_csv(url, header=1)"
   ]
  },
  {
   "cell_type": "code",
   "execution_count": 415,
   "metadata": {},
   "outputs": [],
   "source": [
    "s = dd[1].values"
   ]
  },
  {
   "cell_type": "code",
   "execution_count": 416,
   "metadata": {},
   "outputs": [],
   "source": [
    "df[\"hero\"] = dd[0]\n",
    "df[\"power\"] = dd[1]"
   ]
  },
  {
   "cell_type": "code",
   "execution_count": 417,
   "metadata": {},
   "outputs": [],
   "source": [
    "k_2 = pd.read_excel(fname, sheet_name = 'k = 2')\n",
    "aliance_dict = {aliance_name.strip():i for i, aliance_name in enumerate(k_2.columns[1:] ) }\n",
    "aliance_index = pd.Series(k_2.columns[1:].values)"
   ]
  },
  {
   "cell_type": "code",
   "execution_count": 418,
   "metadata": {},
   "outputs": [],
   "source": [
    "# q = 7\n",
    "q = 10\n",
    "m = 10"
   ]
  },
  {
   "cell_type": "code",
   "execution_count": 419,
   "metadata": {},
   "outputs": [],
   "source": [
    "t = len(aliance_dict)\n",
    "n = len(df)"
   ]
  },
  {
   "cell_type": "code",
   "execution_count": 420,
   "metadata": {},
   "outputs": [],
   "source": [
    "a = [ [0]*len(aliance_dict) for i in df[\"hero\"] ]"
   ]
  },
  {
   "cell_type": "code",
   "execution_count": 421,
   "metadata": {},
   "outputs": [],
   "source": [
    "for i, _s in enumerate( dd[2] ):\n",
    "    for aliance in _s.split(','):\n",
    "        a[i][ aliance_dict[aliance.strip()] ] = 1"
   ]
  },
  {
   "cell_type": "code",
   "execution_count": 422,
   "metadata": {},
   "outputs": [],
   "source": [
    "e =  [ [ [0 for k in range(q+1)] for j in range( len(aliance_dict) ) ] for i in df[\"hero\"] ]"
   ]
  },
  {
   "cell_type": "code",
   "execution_count": 423,
   "metadata": {},
   "outputs": [
    {
     "data": {
      "text/plain": [
       "[1, 2, 3, 4, 5, 6, 7, 8, 9, 10]"
      ]
     },
     "execution_count": 423,
     "metadata": {},
     "output_type": "execute_result"
    }
   ],
   "source": [
    "[k for k in range(1,q+1)]"
   ]
  },
  {
   "cell_type": "code",
   "execution_count": 424,
   "metadata": {},
   "outputs": [],
   "source": [
    "for k in range(1,q+1):\n",
    "    _df = pd.read_excel(fname, sheet_name = 'k = '+str(k))\n",
    "    for j, c in enumerate( list(_df)[1:] ):\n",
    "        for i, value in enumerate(_df[c]):\n",
    "            e[i][j][k] = value\n"
   ]
  },
  {
   "cell_type": "code",
   "execution_count": 425,
   "metadata": {},
   "outputs": [
    {
     "data": {
      "text/plain": [
       "[10, 9, 8, 7, 6, 5, 4, 3, 2]"
      ]
     },
     "execution_count": 425,
     "metadata": {},
     "output_type": "execute_result"
    }
   ],
   "source": [
    "[k for k in range(q,1, -1)]"
   ]
  },
  {
   "cell_type": "code",
   "execution_count": 426,
   "metadata": {},
   "outputs": [],
   "source": [
    "for k in range(q,1, -1):\n",
    "    for j, c in enumerate( list(_df)[1:] ):\n",
    "        for i, value in enumerate(k_2[c]):\n",
    "            e[i][j][k] = e[i][j][k] - e[i][j][k-1]"
   ]
  },
  {
   "cell_type": "code",
   "execution_count": 427,
   "metadata": {},
   "outputs": [
    {
     "data": {
      "text/plain": [
       "13"
      ]
     },
     "execution_count": 427,
     "metadata": {},
     "output_type": "execute_result"
    }
   ],
   "source": [
    "aliance_dict['insect']"
   ]
  },
  {
   "cell_type": "code",
   "execution_count": 428,
   "metadata": {},
   "outputs": [
    {
     "data": {
      "text/plain": [
       "0.1"
      ]
     },
     "execution_count": 428,
     "metadata": {},
     "output_type": "execute_result"
    }
   ],
   "source": [
    "e[0][13][2]"
   ]
  },
  {
   "cell_type": "markdown",
   "metadata": {},
   "source": [
    "# Now we are ready to put our model into CPLEX #"
   ]
  },
  {
   "cell_type": "code",
   "execution_count": 429,
   "metadata": {},
   "outputs": [],
   "source": [
    "import docplex.mp.model as cpx\n",
    "import pandas as pd\n",
    "import sys\n",
    "opt_model = cpx.Model(name=\"Dota UnderLoards2\")"
   ]
  },
  {
   "cell_type": "markdown",
   "metadata": {},
   "source": [
    "## Decision Variables##"
   ]
  },
  {
   "cell_type": "markdown",
   "metadata": {},
   "source": [
    "Decision variables $x_i \\in {0,1}$ <br>\n",
    "$x_i =1,$ if we take hero $i$ to the team <br>\n",
    "$x_i =0,$ otherwise"
   ]
  },
  {
   "cell_type": "code",
   "execution_count": 430,
   "metadata": {},
   "outputs": [],
   "source": [
    "x  = {i: opt_model.binary_var(name=\"x_{}\".format(i)) for i in range(n) }"
   ]
  },
  {
   "cell_type": "markdown",
   "metadata": {},
   "source": [
    "Indicator variables $I_{ijk} \\in {0,1}$. In our case it is semi dessision variable.  <br> \n",
    "$I_{ijk} = 1$, if the hero $i$ for the aliance $j$ the $k$-th bouns is actived"
   ]
  },
  {
   "cell_type": "code",
   "execution_count": 431,
   "metadata": {},
   "outputs": [],
   "source": [
    "# I  = { (i, j , k) : opt_model.binary_var(name=\"I_{}_{}_{}\".format(i, j, k)) for i in range(n) for j in range(t) for k in range(q+1) }\n",
    "I  = { (i, j , k) : opt_model.binary_var(name=\"I_{}_{}_{}\".format(i, j, k)) for i in range(n) for j in range(t) for k in range(1,q+1) }"
   ]
  },
  {
   "cell_type": "markdown",
   "metadata": {},
   "source": [
    "## Objective Function: ##"
   ]
  },
  {
   "cell_type": "markdown",
   "metadata": {},
   "source": [
    "**Целевая функция:** <br>\n",
    "&nbsp;&nbsp;$max \\sum_{i=0}^{n-1} x_i s_i + \\sum_{i=0}^{n-1} \\sum_{j=0}^{t-1}  \\sum_{k=0}^{q} e_{ijk} I_{ijk} $ <br>\n",
    "\n"
   ]
  },
  {
   "cell_type": "code",
   "execution_count": 437,
   "metadata": {},
   "outputs": [],
   "source": [
    "objective = opt_model.sum(x[i] * s[i] for i in range(n)  ) + opt_model.sum(e[i][j][k] * I[i, j,k] for i in range(n) for j in range(t) for k in range(1,q+1) )\n",
    "opt_model.maximize(objective)"
   ]
  },
  {
   "cell_type": "markdown",
   "metadata": {},
   "source": [
    "## Constraints: ##"
   ]
  },
  {
   "cell_type": "markdown",
   "metadata": {},
   "source": [
    "$\\sum_{i=0}^p x_i \\le m $ the number heoroes in the team can not be bigger than maximum team size $m$"
   ]
  },
  {
   "cell_type": "code",
   "execution_count": 438,
   "metadata": {},
   "outputs": [],
   "source": [
    "# == constraints\n",
    "constraint_eq = opt_model.add_constraint(opt_model.sum(x[i] for i in range(n)) <= m)"
   ]
  },
  {
   "cell_type": "markdown",
   "metadata": {},
   "source": [
    "Логика такая, чтобы рабатывал $k$-й бонус $j$-го альянса, надо чтобы в команде\n",
    "было не меньше чем $k$ участиков $j$-го альянса. C помошью данного неравенства мы не даём $I_{jk}$ принимать значение не 0, если $\\sum_{i=0}^{n-1} a_{ij} x_{i} < k$, то есть когда в команде не меньше, чем k героев из альянса $j$.  "
   ]
  },
  {
   "cell_type": "markdown",
   "metadata": {},
   "source": [
    "\n",
    "$ \\forall{i,j,k} :  \\sum_{i'=0}^{n-1} a_{i'j} x_{i'} - k \\ge M(  I_{ijk}  - 1) $ "
   ]
  },
  {
   "cell_type": "code",
   "execution_count": 439,
   "metadata": {},
   "outputs": [],
   "source": [
    "# >= constraints\n",
    "constraints2 = { (i,j,k) : \n",
    "opt_model.add_constraint(\n",
    "# ct = opt_model.sum( a[ii,j] * x[ii] for ii in range(n)) - k  >= 1000000* (I[i,j,k] - 1 ),\n",
    "ct = opt_model.sum( a[ii][j] * x[ii] for ii in range(n)) - k  >= 1000000* (I[i,j,k] - 1 ),\n",
    "ctname=\"constraint2_{}_{}_{}\".format(i, j, k) )\n",
    "    for i in range(n) for j in range(t) for k in range(1,q + 1) }"
   ]
  },
  {
   "cell_type": "markdown",
   "metadata": {},
   "source": [
    "$ \\forall{i,j,k} :  I_{ijk}  \\le x_i $ the aliance bouns can be only activted if the hero $i$ is in the team"
   ]
  },
  {
   "cell_type": "code",
   "execution_count": 440,
   "metadata": {},
   "outputs": [],
   "source": [
    "constraints3 = { (i,j,k) : \n",
    "opt_model.add_constraint(\n",
    "ct =  I[i,j,k]  <= x[i],\n",
    "ctname=\"constraint3_{}_{}_{}\".format(i, j, k) )\n",
    "    for i in range(n) for j in range(t) for k in range(1,q + 1) }"
   ]
  },
  {
   "cell_type": "markdown",
   "metadata": {},
   "source": [
    "$ \\forall{i,j,k} :  I_{ijk}  \\le a_{ij} $ the aliance bouns for the hero $i$ and aliance $j$ can be actived only for hero which is in aliance"
   ]
  },
  {
   "cell_type": "code",
   "execution_count": 441,
   "metadata": {},
   "outputs": [],
   "source": [
    "constraints4 = { (i,j,k) : \n",
    "opt_model.add_constraint(\n",
    "# ct =  I[i,j,k]  <= a[i,j],\n",
    "ct =  I[i,j,k]  <= a[i][j],\n",
    "ctname=\"constraint4_{}_{}_{}\".format(i, j, k) )\n",
    "    for i in range(n) for j in range(t) for k in range(1, q + 1) }"
   ]
  },
  {
   "cell_type": "markdown",
   "metadata": {},
   "source": [
    "## Solve it! ##"
   ]
  },
  {
   "cell_type": "code",
   "execution_count": 442,
   "metadata": {},
   "outputs": [
    {
     "data": {
      "text/plain": [
       "docplex.mp.solution.SolveSolution(obj=61.4,values={x_21:1,x_31:1,x_33:1,.."
      ]
     },
     "execution_count": 442,
     "metadata": {},
     "output_type": "execute_result"
    }
   ],
   "source": [
    "# solving with using local cplex\n",
    "opt_model.solve()"
   ]
  },
  {
   "cell_type": "markdown",
   "metadata": {},
   "source": [
    "## Read solution ##"
   ]
  },
  {
   "cell_type": "code",
   "execution_count": 443,
   "metadata": {},
   "outputs": [],
   "source": [
    "import pandas as pd\n",
    "opt_df = pd.DataFrame.from_dict(I, orient=\"index\", \n",
    "                                columns = [\"variable_object\"])\n",
    "\n",
    "# opt_df.index = pd.index(opt_df.index, names=[\"column_i\"])\n",
    "#opt_df.reset_index(inplace=True)"
   ]
  },
  {
   "cell_type": "code",
   "execution_count": 444,
   "metadata": {},
   "outputs": [],
   "source": [
    "opt_df[\"solution_value\"] = opt_df[\"variable_object\"].apply(lambda item: item.solution_value)"
   ]
  },
  {
   "cell_type": "code",
   "execution_count": 445,
   "metadata": {},
   "outputs": [],
   "source": [
    "#opt_df[opt_df.solution_value > 0]"
   ]
  },
  {
   "cell_type": "code",
   "execution_count": 446,
   "metadata": {},
   "outputs": [
    {
     "name": "stdout",
     "output_type": "stream",
     "text": [
      "Total team power : 61.400000000000006\n"
     ]
    }
   ],
   "source": [
    "print(\"Total team power :\", opt_model.objective_value )"
   ]
  },
  {
   "cell_type": "code",
   "execution_count": null,
   "metadata": {},
   "outputs": [],
   "source": []
  },
  {
   "cell_type": "code",
   "execution_count": 447,
   "metadata": {},
   "outputs": [],
   "source": [
    "opt_df_x = pd.DataFrame.from_dict(x, orient=\"index\", \n",
    "                                columns = [\"x_variable\"])"
   ]
  },
  {
   "cell_type": "code",
   "execution_count": 448,
   "metadata": {},
   "outputs": [],
   "source": [
    "opt_df_x[\"solution_value\"] = opt_df_x[\"x_variable\"].apply(lambda item: item.solution_value)\n",
    "opt_df_x[\"power\"] = s\n",
    "#opt_df_x"
   ]
  },
  {
   "cell_type": "code",
   "execution_count": 449,
   "metadata": {},
   "outputs": [
    {
     "data": {
      "text/html": [
       "<div>\n",
       "<style scoped>\n",
       "    .dataframe tbody tr th:only-of-type {\n",
       "        vertical-align: middle;\n",
       "    }\n",
       "\n",
       "    .dataframe tbody tr th {\n",
       "        vertical-align: top;\n",
       "    }\n",
       "\n",
       "    .dataframe thead th {\n",
       "        text-align: right;\n",
       "    }\n",
       "</style>\n",
       "<table border=\"1\" class=\"dataframe\">\n",
       "  <thead>\n",
       "    <tr style=\"text-align: right;\">\n",
       "      <th></th>\n",
       "      <th>hero</th>\n",
       "      <th>power</th>\n",
       "    </tr>\n",
       "  </thead>\n",
       "  <tbody>\n",
       "    <tr>\n",
       "      <td>21</td>\n",
       "      <td>queen of pain</td>\n",
       "      <td>2</td>\n",
       "    </tr>\n",
       "    <tr>\n",
       "      <td>31</td>\n",
       "      <td>viper</td>\n",
       "      <td>3</td>\n",
       "    </tr>\n",
       "    <tr>\n",
       "      <td>33</td>\n",
       "      <td>ember spirit</td>\n",
       "      <td>3</td>\n",
       "    </tr>\n",
       "    <tr>\n",
       "      <td>49</td>\n",
       "      <td>tidehunter</td>\n",
       "      <td>4</td>\n",
       "    </tr>\n",
       "    <tr>\n",
       "      <td>52</td>\n",
       "      <td>sven</td>\n",
       "      <td>4</td>\n",
       "    </tr>\n",
       "    <tr>\n",
       "      <td>53</td>\n",
       "      <td>slark</td>\n",
       "      <td>4</td>\n",
       "    </tr>\n",
       "    <tr>\n",
       "      <td>54</td>\n",
       "      <td>templar assassin</td>\n",
       "      <td>4</td>\n",
       "    </tr>\n",
       "    <tr>\n",
       "      <td>57</td>\n",
       "      <td>faceless void</td>\n",
       "      <td>5</td>\n",
       "    </tr>\n",
       "    <tr>\n",
       "      <td>60</td>\n",
       "      <td>medusa</td>\n",
       "      <td>5</td>\n",
       "    </tr>\n",
       "    <tr>\n",
       "      <td>61</td>\n",
       "      <td>dragon knight</td>\n",
       "      <td>5</td>\n",
       "    </tr>\n",
       "  </tbody>\n",
       "</table>\n",
       "</div>"
      ],
      "text/plain": [
       "                hero  power\n",
       "21     queen of pain      2\n",
       "31             viper      3\n",
       "33      ember spirit      3\n",
       "49        tidehunter      4\n",
       "52              sven      4\n",
       "53             slark      4\n",
       "54  templar assassin      4\n",
       "57     faceless void      5\n",
       "60            medusa      5\n",
       "61     dragon knight      5"
      ]
     },
     "execution_count": 449,
     "metadata": {},
     "output_type": "execute_result"
    }
   ],
   "source": [
    "df.iloc[ opt_df_x[ opt_df_x[  \"solution_value\"]  == 1.0].index]"
   ]
  },
  {
   "cell_type": "markdown",
   "metadata": {},
   "source": [
    "### добавим инфу по вкладу героев с альянсами ###"
   ]
  },
  {
   "cell_type": "code",
   "execution_count": 450,
   "metadata": {},
   "outputs": [],
   "source": [
    "opt_df['xxx']  = opt_df.index"
   ]
  },
  {
   "cell_type": "code",
   "execution_count": 451,
   "metadata": {},
   "outputs": [],
   "source": [
    "opt_df['contribution'] = opt_df['xxx'].apply(lambda x: e[x[0]][x[1]][x[2] ])"
   ]
  },
  {
   "cell_type": "markdown",
   "metadata": {},
   "source": [
    "## вытащим инфу по альянсам ##"
   ]
  },
  {
   "cell_type": "code",
   "execution_count": 452,
   "metadata": {},
   "outputs": [
    {
     "data": {
      "text/plain": [
       "Index(['variable_object', 'solution_value', 'xxx', 'contribution'], dtype='object')"
      ]
     },
     "execution_count": 452,
     "metadata": {},
     "output_type": "execute_result"
    }
   ],
   "source": [
    "opt_df.columns"
   ]
  },
  {
   "cell_type": "code",
   "execution_count": 453,
   "metadata": {},
   "outputs": [],
   "source": [
    "opt_df['xxx']  = opt_df.index\n",
    "opt_df['hero'] = opt_df['xxx'].map(lambda x: df[\"hero\"].loc[x[0]] )\n",
    "opt_df['aliance'] = opt_df['xxx'].map(lambda x: aliance_index[x[1]] )\n",
    "opt_df['bonus_index'] = opt_df['xxx'].map(lambda x: x[2] )\n",
    "opt_df.drop('xxx', axis=1, inplace=True )"
   ]
  },
  {
   "cell_type": "code",
   "execution_count": null,
   "metadata": {},
   "outputs": [],
   "source": []
  },
  {
   "cell_type": "code",
   "execution_count": 454,
   "metadata": {},
   "outputs": [
    {
     "data": {
      "text/plain": [
       "(56, 2, 1)    brawny 1\n",
       "(56, 2, 2)    brawny 2\n",
       "(56, 3, 1)     brute 1\n",
       "(56, 3, 2)     brute 2\n",
       "dtype: object"
      ]
     },
     "execution_count": 454,
     "metadata": {},
     "output_type": "execute_result"
    }
   ],
   "source": [
    "group.apply(lambda x: f\"{x['aliance']} {x['bonus_index']}\", axis  = 1 )"
   ]
  },
  {
   "cell_type": "code",
   "execution_count": null,
   "metadata": {},
   "outputs": [],
   "source": []
  },
  {
   "cell_type": "code",
   "execution_count": 455,
   "metadata": {},
   "outputs": [],
   "source": [
    "def mm(group):\n",
    "    y = group.apply(lambda x: f\"{x['aliance']} {x['bonus_index']} +{x['contribution']} \", axis  = 1 )            \n",
    "    return y.to_frame().reset_index(drop=True).T"
   ]
  },
  {
   "cell_type": "code",
   "execution_count": 456,
   "metadata": {},
   "outputs": [],
   "source": [
    "z = opt_df[opt_df.solution_value > 0].groupby('hero').apply(mm).droplevel(1).fillna(\"\")\n",
    "z[\"aliance contrubtion\"] = opt_df[opt_df.solution_value > 0].groupby('hero')[\"contribution\"].sum()\n",
    "tmp_df = df.set_index(\"hero\")\n",
    "z[\"hero power\"]  = z.apply(lambda x: tmp_df.loc[x.name], axis = 1)\n",
    "z[\"sum\"] = z[\"aliance contrubtion\"]  + z[\"hero power\"]"
   ]
  },
  {
   "cell_type": "code",
   "execution_count": 457,
   "metadata": {},
   "outputs": [
    {
     "data": {
      "text/html": [
       "<div>\n",
       "<style scoped>\n",
       "    .dataframe tbody tr th:only-of-type {\n",
       "        vertical-align: middle;\n",
       "    }\n",
       "\n",
       "    .dataframe tbody tr th {\n",
       "        vertical-align: top;\n",
       "    }\n",
       "\n",
       "    .dataframe thead th {\n",
       "        text-align: right;\n",
       "    }\n",
       "</style>\n",
       "<table border=\"1\" class=\"dataframe\">\n",
       "  <thead>\n",
       "    <tr style=\"text-align: right;\">\n",
       "      <th></th>\n",
       "      <th>0</th>\n",
       "      <th>1</th>\n",
       "      <th>2</th>\n",
       "      <th>3</th>\n",
       "      <th>aliance contrubtion</th>\n",
       "      <th>hero power</th>\n",
       "      <th>sum</th>\n",
       "    </tr>\n",
       "    <tr>\n",
       "      <th>hero</th>\n",
       "      <th></th>\n",
       "      <th></th>\n",
       "      <th></th>\n",
       "      <th></th>\n",
       "      <th></th>\n",
       "      <th></th>\n",
       "      <th></th>\n",
       "    </tr>\n",
       "  </thead>\n",
       "  <tbody>\n",
       "    <tr>\n",
       "      <td>dragon knight</td>\n",
       "      <td>dragon 2 +1.0</td>\n",
       "      <td>human 2 +0.5</td>\n",
       "      <td>knight 2 +1.0</td>\n",
       "      <td></td>\n",
       "      <td>2.5</td>\n",
       "      <td>5</td>\n",
       "      <td>7.5</td>\n",
       "    </tr>\n",
       "    <tr>\n",
       "      <td>ember spirit</td>\n",
       "      <td>assassin 3 +0.9</td>\n",
       "      <td>assassin 6 +0.9</td>\n",
       "      <td></td>\n",
       "      <td></td>\n",
       "      <td>1.8</td>\n",
       "      <td>3</td>\n",
       "      <td>4.8</td>\n",
       "    </tr>\n",
       "    <tr>\n",
       "      <td>faceless void</td>\n",
       "      <td>assassin 3 +1.5</td>\n",
       "      <td>assassin 6 +1.5</td>\n",
       "      <td></td>\n",
       "      <td></td>\n",
       "      <td>3.0</td>\n",
       "      <td>5</td>\n",
       "      <td>8.0</td>\n",
       "    </tr>\n",
       "    <tr>\n",
       "      <td>medusa</td>\n",
       "      <td>scaled 2 +1.0</td>\n",
       "      <td>scaled 4 +0.5</td>\n",
       "      <td></td>\n",
       "      <td></td>\n",
       "      <td>1.5</td>\n",
       "      <td>5</td>\n",
       "      <td>6.5</td>\n",
       "    </tr>\n",
       "    <tr>\n",
       "      <td>queen of pain</td>\n",
       "      <td>assassin 3 +0.6</td>\n",
       "      <td>assassin 6 +0.6</td>\n",
       "      <td>demon 1 +0.4</td>\n",
       "      <td></td>\n",
       "      <td>1.6</td>\n",
       "      <td>2</td>\n",
       "      <td>3.6</td>\n",
       "    </tr>\n",
       "    <tr>\n",
       "      <td>slark</td>\n",
       "      <td>assassin 3 +1.2</td>\n",
       "      <td>assassin 6 +1.2</td>\n",
       "      <td>scaled 2 +0.8</td>\n",
       "      <td>scaled 4 +0.4</td>\n",
       "      <td>3.6</td>\n",
       "      <td>4</td>\n",
       "      <td>7.6</td>\n",
       "    </tr>\n",
       "    <tr>\n",
       "      <td>sven</td>\n",
       "      <td>human 2 +0.4</td>\n",
       "      <td>knight 2 +0.8</td>\n",
       "      <td>scaled 2 +0.8</td>\n",
       "      <td>scaled 4 +0.4</td>\n",
       "      <td>2.4</td>\n",
       "      <td>4</td>\n",
       "      <td>6.4</td>\n",
       "    </tr>\n",
       "    <tr>\n",
       "      <td>templar assassin</td>\n",
       "      <td>assassin 3 +1.2</td>\n",
       "      <td>assassin 6 +1.2</td>\n",
       "      <td></td>\n",
       "      <td></td>\n",
       "      <td>2.4</td>\n",
       "      <td>4</td>\n",
       "      <td>6.4</td>\n",
       "    </tr>\n",
       "    <tr>\n",
       "      <td>tidehunter</td>\n",
       "      <td>scaled 2 +0.8</td>\n",
       "      <td>scaled 4 +0.4</td>\n",
       "      <td></td>\n",
       "      <td></td>\n",
       "      <td>1.2</td>\n",
       "      <td>4</td>\n",
       "      <td>5.2</td>\n",
       "    </tr>\n",
       "    <tr>\n",
       "      <td>viper</td>\n",
       "      <td>assassin 3 +0.9</td>\n",
       "      <td>assassin 6 +0.9</td>\n",
       "      <td>dragon 2 +0.6</td>\n",
       "      <td></td>\n",
       "      <td>2.4</td>\n",
       "      <td>3</td>\n",
       "      <td>5.4</td>\n",
       "    </tr>\n",
       "  </tbody>\n",
       "</table>\n",
       "</div>"
      ],
      "text/plain": [
       "                                 0                 1               2  \\\n",
       "hero                                                                   \n",
       "dragon knight       dragon 2 +1.0      human 2 +0.5   knight 2 +1.0    \n",
       "ember spirit      assassin 3 +0.9   assassin 6 +0.9                    \n",
       "faceless void     assassin 3 +1.5   assassin 6 +1.5                    \n",
       "medusa              scaled 2 +1.0     scaled 4 +0.5                    \n",
       "queen of pain     assassin 3 +0.6   assassin 6 +0.6    demon 1 +0.4    \n",
       "slark             assassin 3 +1.2   assassin 6 +1.2   scaled 2 +0.8    \n",
       "sven                 human 2 +0.4     knight 2 +0.8   scaled 2 +0.8    \n",
       "templar assassin  assassin 3 +1.2   assassin 6 +1.2                    \n",
       "tidehunter          scaled 2 +0.8     scaled 4 +0.4                    \n",
       "viper             assassin 3 +0.9   assassin 6 +0.9   dragon 2 +0.6    \n",
       "\n",
       "                               3  aliance contrubtion  hero power  sum  \n",
       "hero                                                                    \n",
       "dragon knight                                     2.5           5  7.5  \n",
       "ember spirit                                      1.8           3  4.8  \n",
       "faceless void                                     3.0           5  8.0  \n",
       "medusa                                            1.5           5  6.5  \n",
       "queen of pain                                     1.6           2  3.6  \n",
       "slark             scaled 4 +0.4                   3.6           4  7.6  \n",
       "sven              scaled 4 +0.4                   2.4           4  6.4  \n",
       "templar assassin                                  2.4           4  6.4  \n",
       "tidehunter                                        1.2           4  5.2  \n",
       "viper                                             2.4           3  5.4  "
      ]
     },
     "execution_count": 457,
     "metadata": {},
     "output_type": "execute_result"
    }
   ],
   "source": [
    "z"
   ]
  },
  {
   "cell_type": "code",
   "execution_count": null,
   "metadata": {},
   "outputs": [],
   "source": []
  },
  {
   "cell_type": "code",
   "execution_count": null,
   "metadata": {},
   "outputs": [],
   "source": []
  },
  {
   "cell_type": "code",
   "execution_count": null,
   "metadata": {},
   "outputs": [],
   "source": []
  }
 ],
 "metadata": {
  "kernelspec": {
   "display_name": "Python 3",
   "language": "python",
   "name": "python3"
  },
  "language_info": {
   "codemirror_mode": {
    "name": "ipython",
    "version": 3
   },
   "file_extension": ".py",
   "mimetype": "text/x-python",
   "name": "python",
   "nbconvert_exporter": "python",
   "pygments_lexer": "ipython3",
   "version": "3.6.5"
  }
 },
 "nbformat": 4,
 "nbformat_minor": 2
}
